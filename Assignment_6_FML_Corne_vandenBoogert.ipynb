{
 "cells": [
  {
   "cell_type": "markdown",
   "metadata": {},
   "source": [
    "# Text mining, assignment week 6\n",
    "---\n",
    "\n",
    "\n",
    "The task for this notebook is to train a Naïve Bayes classifier predicting whether a dress review is positive (>3 stars) or neutral/negative (<4 stars).\n",
    "\n",
    "First task: import every library we need, and the dataset (i've renamed it to \"Assignment_text_mining.csv\")\n",
    "\n",
    "---\n",
    "\n",
    "## Naive Bayes Bag of Words model\n",
    "\n",
    "For this assignment I use the Naive Bayes bag of words model. This model can be applied to a text document, before I really can deploy this model I need to get rid of stop words and bring the words back to their word stem, it's time to get into business!\n",
    "\n",
    "Now that the words are reduced to their stem, we can count them. Its a bag of words (so to say) because the wordcount is random and only words are counted (so like husseling a bag and grabbing one of the items that's in the bag out of it.)\n",
    "\n",
    "What we can do now is use this kind of quantification of text for a statistic model, which is what the Naive Bayes does.\n",
    "By calculating the probability that an item falls in a certain category, the algorithm can make a calculation predicting what the odds are that a certain word fits into one category or another."
   ]
  },
  {
   "cell_type": "code",
   "execution_count": 1,
   "metadata": {},
   "outputs": [],
   "source": [
    "import pandas as pd\n",
    "import numpy as np\n",
    "import seaborn as sns\n",
    "import matplotlib.pyplot as plt\n",
    "from sklearn.ensemble import RandomForestClassifier\n",
    "from sklearn.model_selection import train_test_split\n",
    "from sklearn.metrics import confusion_matrix\n",
    "from sklearn.feature_extraction.text import CountVectorizer"
   ]
  },
  {
   "cell_type": "code",
   "execution_count": 2,
   "metadata": {},
   "outputs": [
    {
     "data": {
      "text/html": [
       "<div>\n",
       "<style scoped>\n",
       "    .dataframe tbody tr th:only-of-type {\n",
       "        vertical-align: middle;\n",
       "    }\n",
       "\n",
       "    .dataframe tbody tr th {\n",
       "        vertical-align: top;\n",
       "    }\n",
       "\n",
       "    .dataframe thead th {\n",
       "        text-align: right;\n",
       "    }\n",
       "</style>\n",
       "<table border=\"1\" class=\"dataframe\">\n",
       "  <thead>\n",
       "    <tr style=\"text-align: right;\">\n",
       "      <th></th>\n",
       "      <th>Unnamed: 0</th>\n",
       "      <th>Clothing ID</th>\n",
       "      <th>Age</th>\n",
       "      <th>Title</th>\n",
       "      <th>Review Text</th>\n",
       "      <th>Rating</th>\n",
       "      <th>Recommended IND</th>\n",
       "      <th>Positive Feedback Count</th>\n",
       "      <th>Division Name</th>\n",
       "      <th>Department Name</th>\n",
       "      <th>Class Name</th>\n",
       "    </tr>\n",
       "  </thead>\n",
       "  <tbody>\n",
       "    <tr>\n",
       "      <th>0</th>\n",
       "      <td>0</td>\n",
       "      <td>767</td>\n",
       "      <td>33</td>\n",
       "      <td>NaN</td>\n",
       "      <td>Absolutely wonderful - silky and sexy and comf...</td>\n",
       "      <td>4</td>\n",
       "      <td>1</td>\n",
       "      <td>0</td>\n",
       "      <td>Initmates</td>\n",
       "      <td>Intimate</td>\n",
       "      <td>Intimates</td>\n",
       "    </tr>\n",
       "    <tr>\n",
       "      <th>1</th>\n",
       "      <td>1</td>\n",
       "      <td>1080</td>\n",
       "      <td>34</td>\n",
       "      <td>NaN</td>\n",
       "      <td>Love this dress!  it's sooo pretty.  i happene...</td>\n",
       "      <td>5</td>\n",
       "      <td>1</td>\n",
       "      <td>4</td>\n",
       "      <td>General</td>\n",
       "      <td>Dresses</td>\n",
       "      <td>Dresses</td>\n",
       "    </tr>\n",
       "    <tr>\n",
       "      <th>2</th>\n",
       "      <td>2</td>\n",
       "      <td>1077</td>\n",
       "      <td>60</td>\n",
       "      <td>Some major design flaws</td>\n",
       "      <td>I had such high hopes for this dress and reall...</td>\n",
       "      <td>3</td>\n",
       "      <td>0</td>\n",
       "      <td>0</td>\n",
       "      <td>General</td>\n",
       "      <td>Dresses</td>\n",
       "      <td>Dresses</td>\n",
       "    </tr>\n",
       "    <tr>\n",
       "      <th>3</th>\n",
       "      <td>3</td>\n",
       "      <td>1049</td>\n",
       "      <td>50</td>\n",
       "      <td>My favorite buy!</td>\n",
       "      <td>I love, love, love this jumpsuit. it's fun, fl...</td>\n",
       "      <td>5</td>\n",
       "      <td>1</td>\n",
       "      <td>0</td>\n",
       "      <td>General Petite</td>\n",
       "      <td>Bottoms</td>\n",
       "      <td>Pants</td>\n",
       "    </tr>\n",
       "    <tr>\n",
       "      <th>4</th>\n",
       "      <td>4</td>\n",
       "      <td>847</td>\n",
       "      <td>47</td>\n",
       "      <td>Flattering shirt</td>\n",
       "      <td>This shirt is very flattering to all due to th...</td>\n",
       "      <td>5</td>\n",
       "      <td>1</td>\n",
       "      <td>6</td>\n",
       "      <td>General</td>\n",
       "      <td>Tops</td>\n",
       "      <td>Blouses</td>\n",
       "    </tr>\n",
       "  </tbody>\n",
       "</table>\n",
       "</div>"
      ],
      "text/plain": [
       "   Unnamed: 0  Clothing ID  Age                    Title  \\\n",
       "0           0          767   33                      NaN   \n",
       "1           1         1080   34                      NaN   \n",
       "2           2         1077   60  Some major design flaws   \n",
       "3           3         1049   50         My favorite buy!   \n",
       "4           4          847   47         Flattering shirt   \n",
       "\n",
       "                                         Review Text  Rating  Recommended IND  \\\n",
       "0  Absolutely wonderful - silky and sexy and comf...       4                1   \n",
       "1  Love this dress!  it's sooo pretty.  i happene...       5                1   \n",
       "2  I had such high hopes for this dress and reall...       3                0   \n",
       "3  I love, love, love this jumpsuit. it's fun, fl...       5                1   \n",
       "4  This shirt is very flattering to all due to th...       5                1   \n",
       "\n",
       "   Positive Feedback Count   Division Name Department Name Class Name  \n",
       "0                        0       Initmates        Intimate  Intimates  \n",
       "1                        4         General         Dresses    Dresses  \n",
       "2                        0         General         Dresses    Dresses  \n",
       "3                        0  General Petite         Bottoms      Pants  \n",
       "4                        6         General            Tops    Blouses  "
      ]
     },
     "execution_count": 2,
     "metadata": {},
     "output_type": "execute_result"
    }
   ],
   "source": [
    "df = pd.read_csv('Assignment_text_mining.csv')\n",
    "df.head()"
   ]
  },
  {
   "cell_type": "markdown",
   "metadata": {},
   "source": [
    "---\n",
    "\n",
    "## Data pre processings.\n",
    "\n",
    "First we need to create a dummy variable of the positive and negative reviews, for this i'll use the \">3\" for positive reviews and \"<4\" for negative (or here: Not Positive) reviews.\n",
    "\n",
    "Since this assignment is about dresses (luckly not a gold/blue one), we're setting the new DF name to \"dresses\"."
   ]
  },
  {
   "cell_type": "code",
   "execution_count": 3,
   "metadata": {},
   "outputs": [
    {
     "data": {
      "text/html": [
       "<div>\n",
       "<style scoped>\n",
       "    .dataframe tbody tr th:only-of-type {\n",
       "        vertical-align: middle;\n",
       "    }\n",
       "\n",
       "    .dataframe tbody tr th {\n",
       "        vertical-align: top;\n",
       "    }\n",
       "\n",
       "    .dataframe thead th {\n",
       "        text-align: right;\n",
       "    }\n",
       "</style>\n",
       "<table border=\"1\" class=\"dataframe\">\n",
       "  <thead>\n",
       "    <tr style=\"text-align: right;\">\n",
       "      <th></th>\n",
       "      <th>Review Text</th>\n",
       "      <th>Classification_Positive</th>\n",
       "    </tr>\n",
       "  </thead>\n",
       "  <tbody>\n",
       "    <tr>\n",
       "      <th>0</th>\n",
       "      <td>Absolutely wonderful - silky and sexy and comf...</td>\n",
       "      <td>1</td>\n",
       "    </tr>\n",
       "    <tr>\n",
       "      <th>1</th>\n",
       "      <td>Love this dress!  it's sooo pretty.  i happene...</td>\n",
       "      <td>1</td>\n",
       "    </tr>\n",
       "    <tr>\n",
       "      <th>2</th>\n",
       "      <td>I had such high hopes for this dress and reall...</td>\n",
       "      <td>0</td>\n",
       "    </tr>\n",
       "    <tr>\n",
       "      <th>3</th>\n",
       "      <td>I love, love, love this jumpsuit. it's fun, fl...</td>\n",
       "      <td>1</td>\n",
       "    </tr>\n",
       "    <tr>\n",
       "      <th>4</th>\n",
       "      <td>This shirt is very flattering to all due to th...</td>\n",
       "      <td>1</td>\n",
       "    </tr>\n",
       "  </tbody>\n",
       "</table>\n",
       "</div>"
      ],
      "text/plain": [
       "                                         Review Text  Classification_Positive\n",
       "0  Absolutely wonderful - silky and sexy and comf...                        1\n",
       "1  Love this dress!  it's sooo pretty.  i happene...                        1\n",
       "2  I had such high hopes for this dress and reall...                        0\n",
       "3  I love, love, love this jumpsuit. it's fun, fl...                        1\n",
       "4  This shirt is very flattering to all due to th...                        1"
      ]
     },
     "execution_count": 3,
     "metadata": {},
     "output_type": "execute_result"
    }
   ],
   "source": [
    "df['Classification'] = np.nan\n",
    "df.loc[df['Rating'] > 3, 'Classification'] = 'Positive' \n",
    "df.loc[df['Rating'] < 4, 'Classification'] = 'Not Positive' \n",
    "df = pd.get_dummies(df, columns=['Classification'])\n",
    "df_dresses = df[(df['Class Name'] == 'Dresses')]\n",
    "df_dresses = df[['Review Text', 'Classification_Positive']]\n",
    "df_dresses.head()"
   ]
  },
  {
   "cell_type": "markdown",
   "metadata": {},
   "source": [
    "Now we have a dataframe with positive and negative reviews. Yay! Let's get busy with reviewing the review text"
   ]
  },
  {
   "cell_type": "code",
   "execution_count": 4,
   "metadata": {},
   "outputs": [
    {
     "name": "stdout",
     "output_type": "stream",
     "text": [
      "There are 13856 words in the vocabulary. A selection: ['0p', '0petite', '0r', '0verall', '0xs', '10', '100', '1000', '100lb', '100lbs']\n"
     ]
    }
   ],
   "source": [
    "text = df_dresses['Review Text'].values.astype('U') #Taking the text from the df. We need to convert it to Unicode\n",
    "vect = CountVectorizer(stop_words='english') #Create the CV object, with English stop words\n",
    "vect = vect.fit(text) #We fit the model with the words from the review text\n",
    "vect\n",
    "feature_names = vect.get_feature_names() #Get the words from the vocabulary\n",
    "feature_names\n",
    "print(f\"There are {len(feature_names)} words in the vocabulary. A selection: {feature_names[10:20]}\")"
   ]
  },
  {
   "cell_type": "markdown",
   "metadata": {},
   "source": [
    "Now we can start counting words from our reviews."
   ]
  },
  {
   "cell_type": "code",
   "execution_count": 5,
   "metadata": {},
   "outputs": [
    {
     "name": "stdout",
     "output_type": "stream",
     "text": [
      "  (0, 581)\t1\n",
      "  (0, 2788)\t1\n",
      "  (0, 10684)\t1\n",
      "  (0, 10929)\t1\n",
      "  (0, 13631)\t1\n",
      "  (1, 1446)\t2\n",
      "  (1, 1845)\t1\n",
      "  (1, 3537)\t1\n",
      "  (1, 3701)\t1\n",
      "  (1, 4035)\t1\n",
      "  (1, 5421)\t1\n",
      "  (1, 5725)\t1\n",
      "  (1, 5930)\t1\n",
      "  (1, 6667)\t1\n",
      "  (1, 6754)\t1\n",
      "  (1, 6986)\t1\n",
      "  (1, 7137)\t1\n",
      "  (1, 7257)\t2\n",
      "  (1, 7671)\t1\n",
      "  (1, 8364)\t1\n",
      "  (1, 8432)\t1\n",
      "  (1, 8889)\t3\n",
      "  (1, 9340)\t1\n",
      "  (1, 11293)\t1\n",
      "  (1, 11631)\t1\n",
      "  :\t:\n",
      "  (23484, 8206)\t1\n",
      "  (23484, 8839)\t1\n",
      "  (23484, 8842)\t1\n",
      "  (23484, 10864)\t1\n",
      "  (23484, 11385)\t1\n",
      "  (23484, 11864)\t1\n",
      "  (23484, 12082)\t1\n",
      "  (23484, 12091)\t1\n",
      "  (23484, 12939)\t1\n",
      "  (23484, 13281)\t1\n",
      "  (23484, 13316)\t1\n",
      "  (23484, 13380)\t1\n",
      "  (23484, 13414)\t1\n",
      "  (23484, 13685)\t1\n",
      "  (23485, 2796)\t1\n",
      "  (23485, 4035)\t1\n",
      "  (23485, 4163)\t1\n",
      "  (23485, 4796)\t1\n",
      "  (23485, 4884)\t1\n",
      "  (23485, 5893)\t1\n",
      "  (23485, 7264)\t1\n",
      "  (23485, 8842)\t1\n",
      "  (23485, 9058)\t1\n",
      "  (23485, 9774)\t1\n",
      "  (23485, 13390)\t1\n"
     ]
    }
   ],
   "source": [
    "docu_feat = vect.transform(text) #The transform method from the CountVectorizer object creates the matrix\n",
    "print(docu_feat) #Let's print the matrix"
   ]
  },
  {
   "cell_type": "markdown",
   "metadata": {},
   "source": [
    "---\n",
    "\n",
    "## Make a model, review that model.\n",
    "\n",
    "We need to create an train and test set, also think about what is the X and Y values. For this i'm using the positive reviews as Y variable."
   ]
  },
  {
   "cell_type": "code",
   "execution_count": 6,
   "metadata": {},
   "outputs": [],
   "source": [
    "from sklearn.naive_bayes import MultinomialNB\n",
    "nb = MultinomialNB() #create the model\n",
    "\n",
    "X = docu_feat \n",
    "y = df_dresses['Classification_Positive']\n",
    "X_train, X_test, y_train, y_test = train_test_split(X, y, test_size=0.3, random_state=1)\n",
    "\n",
    "nb = nb.fit(X_train, y_train) #fit the model X=features, y=character"
   ]
  },
  {
   "cell_type": "code",
   "execution_count": 7,
   "metadata": {},
   "outputs": [
    {
     "data": {
      "text/plain": [
       "0.8685779165483962"
      ]
     },
     "execution_count": 7,
     "metadata": {},
     "output_type": "execute_result"
    }
   ],
   "source": [
    "#Evaluate the model\n",
    "y_test_p = nb.predict(X_test)\n",
    "nb.score(X_test, y_test)"
   ]
  },
  {
   "cell_type": "markdown",
   "metadata": {},
   "source": [
    "When running the model, I see that the evaluation is about an value of 0.87. So the algorithm is about 87% right at the time. Which is pretty high, but not high 'enough' to be compleetly trusted (i guess)."
   ]
  },
  {
   "cell_type": "markdown",
   "metadata": {},
   "source": [
    "---\n",
    "\n",
    "## It's used confusion matrix, it's hurts itself in confusion!\n"
   ]
  },
  {
   "cell_type": "code",
   "execution_count": 8,
   "metadata": {},
   "outputs": [
    {
     "data": {
      "text/html": [
       "<div>\n",
       "<style scoped>\n",
       "    .dataframe tbody tr th:only-of-type {\n",
       "        vertical-align: middle;\n",
       "    }\n",
       "\n",
       "    .dataframe tbody tr th {\n",
       "        vertical-align: top;\n",
       "    }\n",
       "\n",
       "    .dataframe thead th {\n",
       "        text-align: right;\n",
       "    }\n",
       "</style>\n",
       "<table border=\"1\" class=\"dataframe\">\n",
       "  <thead>\n",
       "    <tr style=\"text-align: right;\">\n",
       "      <th></th>\n",
       "      <th>Pred Positive</th>\n",
       "      <th>Pred negative</th>\n",
       "    </tr>\n",
       "  </thead>\n",
       "  <tbody>\n",
       "    <tr>\n",
       "      <th>Positive</th>\n",
       "      <td>1097</td>\n",
       "      <td>518</td>\n",
       "    </tr>\n",
       "    <tr>\n",
       "      <th>Negative</th>\n",
       "      <td>408</td>\n",
       "      <td>5023</td>\n",
       "    </tr>\n",
       "  </tbody>\n",
       "</table>\n",
       "</div>"
      ],
      "text/plain": [
       "          Pred Positive  Pred negative\n",
       "Positive           1097            518\n",
       "Negative            408           5023"
      ]
     },
     "execution_count": 8,
     "metadata": {},
     "output_type": "execute_result"
    }
   ],
   "source": [
    "cm = confusion_matrix(y_test, y_test_p)\n",
    "cm = pd.DataFrame(cm, index=['Positive', 'Negative'], columns=['Pred Positive', 'Pred negative'])\n",
    "cm"
   ]
  },
  {
   "cell_type": "code",
   "execution_count": 9,
   "metadata": {},
   "outputs": [
    {
     "name": "stdout",
     "output_type": "stream",
     "text": [
      "The precision for a positive review is: 0.7289036544850498\n",
      "The recall for a positive review is: 0.6792569659442724\n",
      "The precision for a negative review is: 0.906515069482043\n",
      "The recall for a negative review is: 0.9248757134965936\n"
     ]
    }
   ],
   "source": [
    "print(f\"The precision for a positive review is: {cm.iloc[0,0]/(cm.iloc[0,0]+cm.iloc[1,0])}\") #this uses the coordinates of the confustion matrix\n",
    "print(f\"The recall for a positive review is: {cm.iloc[0,0]/(cm.iloc[0,0]+cm.iloc[0,1])}\")\n",
    "print(f\"The precision for a negative review is: {cm.iloc[1,1]/(cm.iloc[1,1]+cm.iloc[0,1])}\")\n",
    "print(f\"The recall for a negative review is: {cm.iloc[1,1]/(cm.iloc[1,1]+cm.iloc[1,0])}\")"
   ]
  },
  {
   "cell_type": "markdown",
   "metadata": {},
   "source": [
    "What we can see is that the precision for a positive review is about 0.72, and the recall is 67.  Well we have this information, let's add another column, namely: Rating prediction; I do this to investigate which cases were not identified correctly and so I can interpertret this."
   ]
  },
  {
   "cell_type": "code",
   "execution_count": 10,
   "metadata": {},
   "outputs": [
    {
     "data": {
      "text/html": [
       "<div>\n",
       "<style scoped>\n",
       "    .dataframe tbody tr th:only-of-type {\n",
       "        vertical-align: middle;\n",
       "    }\n",
       "\n",
       "    .dataframe tbody tr th {\n",
       "        vertical-align: top;\n",
       "    }\n",
       "\n",
       "    .dataframe thead th {\n",
       "        text-align: right;\n",
       "    }\n",
       "</style>\n",
       "<table border=\"1\" class=\"dataframe\">\n",
       "  <thead>\n",
       "    <tr style=\"text-align: right;\">\n",
       "      <th></th>\n",
       "      <th>Review Text</th>\n",
       "      <th>Classification_Positive</th>\n",
       "      <th>Rating_Prediction</th>\n",
       "    </tr>\n",
       "  </thead>\n",
       "  <tbody>\n",
       "    <tr>\n",
       "      <th>0</th>\n",
       "      <td>Absolutely wonderful - silky and sexy and comf...</td>\n",
       "      <td>1</td>\n",
       "      <td>1</td>\n",
       "    </tr>\n",
       "    <tr>\n",
       "      <th>1</th>\n",
       "      <td>Love this dress!  it's sooo pretty.  i happene...</td>\n",
       "      <td>1</td>\n",
       "      <td>1</td>\n",
       "    </tr>\n",
       "    <tr>\n",
       "      <th>2</th>\n",
       "      <td>I had such high hopes for this dress and reall...</td>\n",
       "      <td>0</td>\n",
       "      <td>0</td>\n",
       "    </tr>\n",
       "    <tr>\n",
       "      <th>3</th>\n",
       "      <td>I love, love, love this jumpsuit. it's fun, fl...</td>\n",
       "      <td>1</td>\n",
       "      <td>1</td>\n",
       "    </tr>\n",
       "    <tr>\n",
       "      <th>4</th>\n",
       "      <td>This shirt is very flattering to all due to th...</td>\n",
       "      <td>1</td>\n",
       "      <td>1</td>\n",
       "    </tr>\n",
       "    <tr>\n",
       "      <th>...</th>\n",
       "      <td>...</td>\n",
       "      <td>...</td>\n",
       "      <td>...</td>\n",
       "    </tr>\n",
       "    <tr>\n",
       "      <th>22995</th>\n",
       "      <td>Oh what a disappointment! i was looking forwar...</td>\n",
       "      <td>0</td>\n",
       "      <td>0</td>\n",
       "    </tr>\n",
       "    <tr>\n",
       "      <th>22996</th>\n",
       "      <td>Got this in the petite xs in mint; the color i...</td>\n",
       "      <td>1</td>\n",
       "      <td>1</td>\n",
       "    </tr>\n",
       "    <tr>\n",
       "      <th>22997</th>\n",
       "      <td>These socks are soft and comfortable, and they...</td>\n",
       "      <td>1</td>\n",
       "      <td>1</td>\n",
       "    </tr>\n",
       "    <tr>\n",
       "      <th>22998</th>\n",
       "      <td>Beautiful, unique design. it's very flattering...</td>\n",
       "      <td>1</td>\n",
       "      <td>0</td>\n",
       "    </tr>\n",
       "    <tr>\n",
       "      <th>22999</th>\n",
       "      <td>I had my eye on this for a while and finally p...</td>\n",
       "      <td>1</td>\n",
       "      <td>1</td>\n",
       "    </tr>\n",
       "  </tbody>\n",
       "</table>\n",
       "<p>23000 rows × 3 columns</p>\n",
       "</div>"
      ],
      "text/plain": [
       "                                             Review Text  \\\n",
       "0      Absolutely wonderful - silky and sexy and comf...   \n",
       "1      Love this dress!  it's sooo pretty.  i happene...   \n",
       "2      I had such high hopes for this dress and reall...   \n",
       "3      I love, love, love this jumpsuit. it's fun, fl...   \n",
       "4      This shirt is very flattering to all due to th...   \n",
       "...                                                  ...   \n",
       "22995  Oh what a disappointment! i was looking forwar...   \n",
       "22996  Got this in the petite xs in mint; the color i...   \n",
       "22997  These socks are soft and comfortable, and they...   \n",
       "22998  Beautiful, unique design. it's very flattering...   \n",
       "22999  I had my eye on this for a while and finally p...   \n",
       "\n",
       "       Classification_Positive  Rating_Prediction  \n",
       "0                            1                  1  \n",
       "1                            1                  1  \n",
       "2                            0                  0  \n",
       "3                            1                  1  \n",
       "4                            1                  1  \n",
       "...                        ...                ...  \n",
       "22995                        0                  0  \n",
       "22996                        1                  1  \n",
       "22997                        1                  1  \n",
       "22998                        1                  0  \n",
       "22999                        1                  1  \n",
       "\n",
       "[23000 rows x 3 columns]"
      ]
     },
     "execution_count": 10,
     "metadata": {},
     "output_type": "execute_result"
    }
   ],
   "source": [
    "from sklearn.naive_bayes import MultinomialNB\n",
    "df[\"Rating_Prediction\"] = nb.predict(X)\n",
    "\n",
    "\n",
    "df_dresses = df[['Review Text', 'Classification_Positive', 'Rating_Prediction']]\n",
    "df_dresses.head(23000) #The review number \"22998\" has a 0 - 1 rating, let's see what that does in the next step."
   ]
  },
  {
   "cell_type": "markdown",
   "metadata": {},
   "source": [
    "---\n",
    "\n",
    "## So when does the model going to trip?\n",
    "\n",
    "I think the model is going to trip when a negative word is being used in a positive setting (\"I love the hell out of this dress\", or \"I can't really believe I hate myself for loving this dress\")."
   ]
  },
  {
   "cell_type": "code",
   "execution_count": 11,
   "metadata": {},
   "outputs": [
    {
     "data": {
      "text/plain": [
       "Review Text                Love this dress!  it's sooo pretty.  i happene...\n",
       "Classification_Positive                                                    1\n",
       "Rating_Prediction                                                          1\n",
       "Name: 1, dtype: object"
      ]
     },
     "execution_count": 11,
     "metadata": {},
     "output_type": "execute_result"
    }
   ],
   "source": [
    "df_dresses.iloc[1]"
   ]
  },
  {
   "cell_type": "code",
   "execution_count": 12,
   "metadata": {},
   "outputs": [
    {
     "data": {
      "text/plain": [
       "Review Text                I had such high hopes for this dress and reall...\n",
       "Classification_Positive                                                    0\n",
       "Rating_Prediction                                                          0\n",
       "Name: 2, dtype: object"
      ]
     },
     "execution_count": 12,
     "metadata": {},
     "output_type": "execute_result"
    }
   ],
   "source": [
    "df_dresses.iloc[2]"
   ]
  },
  {
   "cell_type": "markdown",
   "metadata": {},
   "source": [
    "The first two were correctly identified, so lets take a random number to see if thats correctly or indirectly identified."
   ]
  },
  {
   "cell_type": "code",
   "execution_count": 13,
   "metadata": {},
   "outputs": [
    {
     "data": {
      "text/plain": [
       "Review Text                Beautiful, unique design. it's very flattering...\n",
       "Classification_Positive                                                    1\n",
       "Rating_Prediction                                                          0\n",
       "Name: 22998, dtype: object"
      ]
     },
     "execution_count": 13,
     "metadata": {},
     "output_type": "execute_result"
    }
   ],
   "source": [
    "df_dresses.iloc[22998]"
   ]
  },
  {
   "cell_type": "code",
   "execution_count": 14,
   "metadata": {},
   "outputs": [
    {
     "data": {
      "text/plain": [
       "\"Beautiful, unique design. it's very flattering the way the fabric hangs.\\n\\ni usually wear a 10, but because the lining is much smaller than the dress (which many linings are... it's a pet peeve of mine), i sized up to a 12 and took in the shoulders a couple inches so the bodice area would sit correctly on my bust. otherwise in the 10 my stomach would feel squeezed even if it looked like it fit perfectly. that said, i'm very sensitive to that kind of thing.\\n\\nother reviewers have noted that the emb\""
      ]
     },
     "execution_count": 14,
     "metadata": {},
     "output_type": "execute_result"
    }
   ],
   "source": [
    "df_dresses[\"Review Text\"].iloc[22998]"
   ]
  },
  {
   "cell_type": "markdown",
   "metadata": {},
   "source": [
    "This review uses a lot of positive words, but also looks like a negative words such as \"not\",. I think this is not the best example that it trips up but it's weird it just doesn't identify this review as \"positive\". For now i just let it be, but I think the model is pretty A-okay for this assignment.\n",
    "\n",
    "### Would I use this model?\n",
    "Probably, because the chances are pretty high it has a good prediction. Although I can see in a business setting that it could be a bit of a gamble.\n",
    "\n",
    "Just my 2 cents."
   ]
  },
  {
   "cell_type": "code",
   "execution_count": null,
   "metadata": {},
   "outputs": [],
   "source": []
  }
 ],
 "metadata": {
  "kernelspec": {
   "display_name": "Python 3",
   "language": "python",
   "name": "python3"
  },
  "language_info": {
   "codemirror_mode": {
    "name": "ipython",
    "version": 3
   },
   "file_extension": ".py",
   "mimetype": "text/x-python",
   "name": "python",
   "nbconvert_exporter": "python",
   "pygments_lexer": "ipython3",
   "version": "3.8.3"
  }
 },
 "nbformat": 4,
 "nbformat_minor": 4
}
